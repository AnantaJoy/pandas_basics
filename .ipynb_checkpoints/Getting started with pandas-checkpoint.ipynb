{
 "cells": [
  {
   "cell_type": "markdown",
   "id": "9986ee01",
   "metadata": {},
   "source": [
    "### Book: Python for Data Analysis\n",
    "`Author: Wes McKinney`\n"
   ]
  },
  {
   "cell_type": "markdown",
   "id": "5450de8b",
   "metadata": {},
   "source": [
    "Two main data structures\n",
    "* **Series**\n",
    "* **DataFrame**"
   ]
  },
  {
   "cell_type": "code",
   "execution_count": 3,
   "id": "433e0773",
   "metadata": {},
   "outputs": [],
   "source": [
    "# import libraries\n",
    "import pandas as pd"
   ]
  },
  {
   "cell_type": "code",
   "execution_count": 5,
   "id": "bc304129",
   "metadata": {},
   "outputs": [
    {
     "data": {
      "text/plain": [
       "0    52\n",
       "1    69\n",
       "2    71\n",
       "dtype: int64"
      ]
     },
     "execution_count": 5,
     "metadata": {},
     "output_type": "execute_result"
    }
   ],
   "source": [
    "dates = pd.Series([52,69,71])\n",
    "dates"
   ]
  },
  {
   "cell_type": "code",
   "execution_count": 6,
   "id": "35e1e90b",
   "metadata": {},
   "outputs": [
    {
     "data": {
      "text/plain": [
       "Language Movement     52\n",
       "1969 Mass Uprising    69\n",
       "Liberation War        71\n",
       "dtype: int64"
      ]
     },
     "execution_count": 6,
     "metadata": {},
     "output_type": "execute_result"
    }
   ],
   "source": [
    "dates2 = pd.Series([52,69,71],index = ['Language Movement', '1969 Mass Uprising','Liberation War'])\n",
    "dates2\n"
   ]
  },
  {
   "cell_type": "code",
   "execution_count": 8,
   "id": "1f7c02a8",
   "metadata": {},
   "outputs": [
    {
     "data": {
      "text/plain": [
       "RangeIndex(start=0, stop=3, step=1)"
      ]
     },
     "execution_count": 8,
     "metadata": {},
     "output_type": "execute_result"
    }
   ],
   "source": [
    "dates.index"
   ]
  },
  {
   "cell_type": "code",
   "execution_count": 7,
   "id": "6645f3b4",
   "metadata": {},
   "outputs": [
    {
     "data": {
      "text/plain": [
       "array([52, 69, 71])"
      ]
     },
     "execution_count": 7,
     "metadata": {},
     "output_type": "execute_result"
    }
   ],
   "source": [
    "dates2.values"
   ]
  },
  {
   "cell_type": "code",
   "execution_count": 9,
   "id": "67c986de",
   "metadata": {},
   "outputs": [],
   "source": [
    "# create a new data frame\n",
    "student_age = pd.Series([23,21,24,23,24])\n"
   ]
  },
  {
   "cell_type": "code",
   "execution_count": 10,
   "id": "0330d2fb",
   "metadata": {},
   "outputs": [
    {
     "data": {
      "text/plain": [
       "0    23\n",
       "2    24\n",
       "3    23\n",
       "4    24\n",
       "dtype: int64"
      ]
     },
     "execution_count": 10,
     "metadata": {},
     "output_type": "execute_result"
    }
   ],
   "source": [
    "student_age[student_age >22]"
   ]
  },
  {
   "cell_type": "code",
   "execution_count": null,
   "id": "0672bdf8",
   "metadata": {},
   "outputs": [],
   "source": []
  }
 ],
 "metadata": {
  "kernelspec": {
   "display_name": "Python 3 (ipykernel)",
   "language": "python",
   "name": "python3"
  },
  "language_info": {
   "codemirror_mode": {
    "name": "ipython",
    "version": 3
   },
   "file_extension": ".py",
   "mimetype": "text/x-python",
   "name": "python",
   "nbconvert_exporter": "python",
   "pygments_lexer": "ipython3",
   "version": "3.10.6"
  }
 },
 "nbformat": 4,
 "nbformat_minor": 5
}
