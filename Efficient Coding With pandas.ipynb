{
 "cells": [
  {
   "cell_type": "code",
   "execution_count": 9,
   "metadata": {},
   "outputs": [],
   "source": [
    "# import libraries\n",
    "import numpy as np\n",
    "import pandas as pd"
   ]
  },
  {
   "cell_type": "code",
   "execution_count": 10,
   "metadata": {},
   "outputs": [
    {
     "name": "stdout",
     "output_type": "stream",
     "text": [
      "500000500000\n",
      "Run time: 0.17170381546020508 seconds\n"
     ]
    }
   ],
   "source": [
    "# calculate run time\n",
    "import time\n",
    "\n",
    "start_time = time.time()\n",
    "\n",
    "sum = 0\n",
    "# Your code goes here\n",
    "for i in range(1000001):\n",
    "    sum += i\n",
    "print(sum)\n",
    "\n",
    "end_time = time.time()\n",
    "run_time = end_time - start_time\n",
    "\n",
    "print(\"Run time: {} seconds\".format(run_time))"
   ]
  },
  {
   "cell_type": "code",
   "execution_count": 11,
   "metadata": {},
   "outputs": [
    {
     "name": "stdout",
     "output_type": "stream",
     "text": [
      "500000500000\n",
      "Run time: 0.0010364055633544922 seconds\n"
     ]
    }
   ],
   "source": [
    "#sum of 0 to 1000000 without foor loops\n",
    "start_time = time.time()\n",
    "\n",
    "n = 1000000\n",
    "sum = (n * (n + 1)) // 2\n",
    "print(sum)\n",
    "\n",
    "end_time = time.time()\n",
    "run_time = end_time - start_time\n",
    "\n",
    "print(\"Run time: {} seconds\".format(run_time))"
   ]
  },
  {
   "cell_type": "code",
   "execution_count": 12,
   "metadata": {},
   "outputs": [
    {
     "name": "stdout",
     "output_type": "stream",
     "text": [
      "500000500000\n",
      "Run time: 0.19015860557556152 seconds\n"
     ]
    }
   ],
   "source": [
    "#sum of 0 to 1000000 with list comprehesion\n",
    "# calculate run time\n",
    "import time\n",
    "\n",
    "start_time = time.time()\n",
    "\n",
    "# sum of 0 to 1000000 with list comprehension\n",
    "n = 1000000\n",
    "sum = np.sum([i for i in range(n+1)])\n",
    "print(sum)\n",
    "\n",
    "end_time = time.time()\n",
    "run_time = end_time - start_time\n",
    "\n",
    "print(\"Run time: {} seconds\".format(run_time))\n"
   ]
  },
  {
   "cell_type": "markdown",
   "metadata": {},
   "source": [
    "`loc` vs `iloc`"
   ]
  },
  {
   "cell_type": "code",
   "execution_count": 13,
   "metadata": {},
   "outputs": [],
   "source": [
    "# create a dummy dataset of 100 rows and 15 columns of gdp data of 100 country and columns as year and save this as named gdp.csv\n",
    "import pandas as pd\n",
    "import numpy as np\n",
    "\n",
    "# Create dummy dataset\n",
    "data = np.random.randint(low=10, high=1000, size=(100, 15))\n",
    "columns = [f'{i}' for i in range(2000,2015)]\n",
    "df = pd.DataFrame(data, columns=columns)\n",
    "\n",
    "# Add country column in the 1st column\n",
    "countries = ['Country_' + str(i) for i in range(1,101)]\n",
    "df.insert(0, 'country', countries)\n",
    "\n",
    "# Save dataset as gdp.csv\n",
    "df.to_csv('./data/gdp.csv', index=False)"
   ]
  },
  {
   "cell_type": "code",
   "execution_count": 14,
   "metadata": {},
   "outputs": [
    {
     "data": {
      "text/html": [
       "<div>\n",
       "<style scoped>\n",
       "    .dataframe tbody tr th:only-of-type {\n",
       "        vertical-align: middle;\n",
       "    }\n",
       "\n",
       "    .dataframe tbody tr th {\n",
       "        vertical-align: top;\n",
       "    }\n",
       "\n",
       "    .dataframe thead th {\n",
       "        text-align: right;\n",
       "    }\n",
       "</style>\n",
       "<table border=\"1\" class=\"dataframe\">\n",
       "  <thead>\n",
       "    <tr style=\"text-align: right;\">\n",
       "      <th></th>\n",
       "      <th>country</th>\n",
       "      <th>2000</th>\n",
       "      <th>2001</th>\n",
       "      <th>2002</th>\n",
       "      <th>2003</th>\n",
       "      <th>2004</th>\n",
       "      <th>2005</th>\n",
       "      <th>2006</th>\n",
       "      <th>2007</th>\n",
       "      <th>2008</th>\n",
       "      <th>2009</th>\n",
       "      <th>2010</th>\n",
       "      <th>2011</th>\n",
       "      <th>2012</th>\n",
       "      <th>2013</th>\n",
       "      <th>2014</th>\n",
       "    </tr>\n",
       "  </thead>\n",
       "  <tbody>\n",
       "    <tr>\n",
       "      <th>0</th>\n",
       "      <td>Country_1</td>\n",
       "      <td>192</td>\n",
       "      <td>559</td>\n",
       "      <td>772</td>\n",
       "      <td>84</td>\n",
       "      <td>919</td>\n",
       "      <td>595</td>\n",
       "      <td>943</td>\n",
       "      <td>104</td>\n",
       "      <td>488</td>\n",
       "      <td>290</td>\n",
       "      <td>264</td>\n",
       "      <td>759</td>\n",
       "      <td>241</td>\n",
       "      <td>532</td>\n",
       "      <td>640</td>\n",
       "    </tr>\n",
       "    <tr>\n",
       "      <th>1</th>\n",
       "      <td>Country_2</td>\n",
       "      <td>577</td>\n",
       "      <td>519</td>\n",
       "      <td>525</td>\n",
       "      <td>775</td>\n",
       "      <td>79</td>\n",
       "      <td>252</td>\n",
       "      <td>643</td>\n",
       "      <td>856</td>\n",
       "      <td>205</td>\n",
       "      <td>443</td>\n",
       "      <td>182</td>\n",
       "      <td>366</td>\n",
       "      <td>999</td>\n",
       "      <td>294</td>\n",
       "      <td>772</td>\n",
       "    </tr>\n",
       "    <tr>\n",
       "      <th>2</th>\n",
       "      <td>Country_3</td>\n",
       "      <td>525</td>\n",
       "      <td>939</td>\n",
       "      <td>731</td>\n",
       "      <td>959</td>\n",
       "      <td>819</td>\n",
       "      <td>973</td>\n",
       "      <td>527</td>\n",
       "      <td>922</td>\n",
       "      <td>337</td>\n",
       "      <td>258</td>\n",
       "      <td>825</td>\n",
       "      <td>108</td>\n",
       "      <td>47</td>\n",
       "      <td>458</td>\n",
       "      <td>399</td>\n",
       "    </tr>\n",
       "    <tr>\n",
       "      <th>3</th>\n",
       "      <td>Country_4</td>\n",
       "      <td>905</td>\n",
       "      <td>109</td>\n",
       "      <td>159</td>\n",
       "      <td>411</td>\n",
       "      <td>471</td>\n",
       "      <td>139</td>\n",
       "      <td>11</td>\n",
       "      <td>462</td>\n",
       "      <td>400</td>\n",
       "      <td>142</td>\n",
       "      <td>821</td>\n",
       "      <td>110</td>\n",
       "      <td>656</td>\n",
       "      <td>102</td>\n",
       "      <td>981</td>\n",
       "    </tr>\n",
       "    <tr>\n",
       "      <th>4</th>\n",
       "      <td>Country_5</td>\n",
       "      <td>294</td>\n",
       "      <td>514</td>\n",
       "      <td>468</td>\n",
       "      <td>766</td>\n",
       "      <td>750</td>\n",
       "      <td>713</td>\n",
       "      <td>584</td>\n",
       "      <td>97</td>\n",
       "      <td>820</td>\n",
       "      <td>751</td>\n",
       "      <td>897</td>\n",
       "      <td>924</td>\n",
       "      <td>620</td>\n",
       "      <td>742</td>\n",
       "      <td>105</td>\n",
       "    </tr>\n",
       "  </tbody>\n",
       "</table>\n",
       "</div>"
      ],
      "text/plain": [
       "     country  2000  2001  2002  2003  2004  2005  2006  2007  2008  2009  \\\n",
       "0  Country_1   192   559   772    84   919   595   943   104   488   290   \n",
       "1  Country_2   577   519   525   775    79   252   643   856   205   443   \n",
       "2  Country_3   525   939   731   959   819   973   527   922   337   258   \n",
       "3  Country_4   905   109   159   411   471   139    11   462   400   142   \n",
       "4  Country_5   294   514   468   766   750   713   584    97   820   751   \n",
       "\n",
       "   2010  2011  2012  2013  2014  \n",
       "0   264   759   241   532   640  \n",
       "1   182   366   999   294   772  \n",
       "2   825   108    47   458   399  \n",
       "3   821   110   656   102   981  \n",
       "4   897   924   620   742   105  "
      ]
     },
     "execution_count": 14,
     "metadata": {},
     "output_type": "execute_result"
    }
   ],
   "source": [
    "gdp = pd.read_csv('./data/gdp.csv')\n",
    "gdp.head()"
   ]
  },
  {
   "cell_type": "code",
   "execution_count": 16,
   "metadata": {},
   "outputs": [
    {
     "data": {
      "text/html": [
       "<div>\n",
       "<style scoped>\n",
       "    .dataframe tbody tr th:only-of-type {\n",
       "        vertical-align: middle;\n",
       "    }\n",
       "\n",
       "    .dataframe tbody tr th {\n",
       "        vertical-align: top;\n",
       "    }\n",
       "\n",
       "    .dataframe thead th {\n",
       "        text-align: right;\n",
       "    }\n",
       "</style>\n",
       "<table border=\"1\" class=\"dataframe\">\n",
       "  <thead>\n",
       "    <tr style=\"text-align: right;\">\n",
       "      <th></th>\n",
       "      <th>2000</th>\n",
       "      <th>2001</th>\n",
       "      <th>2002</th>\n",
       "      <th>2003</th>\n",
       "      <th>2004</th>\n",
       "      <th>2005</th>\n",
       "    </tr>\n",
       "    <tr>\n",
       "      <th>country</th>\n",
       "      <th></th>\n",
       "      <th></th>\n",
       "      <th></th>\n",
       "      <th></th>\n",
       "      <th></th>\n",
       "      <th></th>\n",
       "    </tr>\n",
       "  </thead>\n",
       "  <tbody>\n",
       "    <tr>\n",
       "      <th>Country_1</th>\n",
       "      <td>192</td>\n",
       "      <td>559</td>\n",
       "      <td>772</td>\n",
       "      <td>84</td>\n",
       "      <td>919</td>\n",
       "      <td>595</td>\n",
       "    </tr>\n",
       "    <tr>\n",
       "      <th>Country_2</th>\n",
       "      <td>577</td>\n",
       "      <td>519</td>\n",
       "      <td>525</td>\n",
       "      <td>775</td>\n",
       "      <td>79</td>\n",
       "      <td>252</td>\n",
       "    </tr>\n",
       "    <tr>\n",
       "      <th>Country_3</th>\n",
       "      <td>525</td>\n",
       "      <td>939</td>\n",
       "      <td>731</td>\n",
       "      <td>959</td>\n",
       "      <td>819</td>\n",
       "      <td>973</td>\n",
       "    </tr>\n",
       "    <tr>\n",
       "      <th>Country_4</th>\n",
       "      <td>905</td>\n",
       "      <td>109</td>\n",
       "      <td>159</td>\n",
       "      <td>411</td>\n",
       "      <td>471</td>\n",
       "      <td>139</td>\n",
       "    </tr>\n",
       "    <tr>\n",
       "      <th>Country_5</th>\n",
       "      <td>294</td>\n",
       "      <td>514</td>\n",
       "      <td>468</td>\n",
       "      <td>766</td>\n",
       "      <td>750</td>\n",
       "      <td>713</td>\n",
       "    </tr>\n",
       "  </tbody>\n",
       "</table>\n",
       "</div>"
      ],
      "text/plain": [
       "           2000  2001  2002  2003  2004  2005\n",
       "country                                      \n",
       "Country_1   192   559   772    84   919   595\n",
       "Country_2   577   519   525   775    79   252\n",
       "Country_3   525   939   731   959   819   973\n",
       "Country_4   905   109   159   411   471   139\n",
       "Country_5   294   514   468   766   750   713"
      ]
     },
     "execution_count": 16,
     "metadata": {},
     "output_type": "execute_result"
    }
   ],
   "source": [
    "# gdp.set_index('country', inplace=True)\n",
    "gdp.loc['Country_1']\n",
    "\n",
    "gdp.loc['Country_1', '2000']\n",
    "\n",
    "gdp.loc[['Country_1', 'Country_2'], '2000']\n",
    "\n",
    "gdp.loc[['Country_1', 'Country_2'], ['2000', '2010']]\n",
    "\n",
    "gdp.loc['Country_1':'Country_5', '2000':'2005']\n"
   ]
  },
  {
   "cell_type": "code",
   "execution_count": null,
   "metadata": {},
   "outputs": [
    {
     "data": {
      "text/html": [
       "<div>\n",
       "<style scoped>\n",
       "    .dataframe tbody tr th:only-of-type {\n",
       "        vertical-align: middle;\n",
       "    }\n",
       "\n",
       "    .dataframe tbody tr th {\n",
       "        vertical-align: top;\n",
       "    }\n",
       "\n",
       "    .dataframe thead th {\n",
       "        text-align: right;\n",
       "    }\n",
       "</style>\n",
       "<table border=\"1\" class=\"dataframe\">\n",
       "  <thead>\n",
       "    <tr style=\"text-align: right;\">\n",
       "      <th></th>\n",
       "      <th>country</th>\n",
       "      <th>2000</th>\n",
       "      <th>2001</th>\n",
       "      <th>2002</th>\n",
       "      <th>2003</th>\n",
       "    </tr>\n",
       "  </thead>\n",
       "  <tbody>\n",
       "    <tr>\n",
       "      <th>0</th>\n",
       "      <td>Country_1</td>\n",
       "      <td>541</td>\n",
       "      <td>248</td>\n",
       "      <td>136</td>\n",
       "      <td>212</td>\n",
       "    </tr>\n",
       "    <tr>\n",
       "      <th>1</th>\n",
       "      <td>Country_2</td>\n",
       "      <td>911</td>\n",
       "      <td>253</td>\n",
       "      <td>78</td>\n",
       "      <td>639</td>\n",
       "    </tr>\n",
       "    <tr>\n",
       "      <th>2</th>\n",
       "      <td>Country_3</td>\n",
       "      <td>681</td>\n",
       "      <td>840</td>\n",
       "      <td>521</td>\n",
       "      <td>253</td>\n",
       "    </tr>\n",
       "  </tbody>\n",
       "</table>\n",
       "</div>"
      ],
      "text/plain": [
       "     country  2000  2001  2002  2003\n",
       "0  Country_1   541   248   136   212\n",
       "1  Country_2   911   253    78   639\n",
       "2  Country_3   681   840   521   253"
      ]
     },
     "execution_count": 38,
     "metadata": {},
     "output_type": "execute_result"
    }
   ],
   "source": [
    "\n",
    "gdp.iloc[:3, :5]\n"
   ]
  },
  {
   "cell_type": "code",
   "execution_count": null,
   "metadata": {},
   "outputs": [
    {
     "name": "stdout",
     "output_type": "stream",
     "text": [
      "0.007119178771972656\n"
     ]
    }
   ],
   "source": [
    "start_time = time.time()\n",
    "\n",
    "gdp[['country', '2000']]\n",
    "\n",
    "end_time = time.time()\n",
    "run_time = end_time - start_time\n",
    "print(run_time)\n"
   ]
  },
  {
   "cell_type": "code",
   "execution_count": null,
   "metadata": {},
   "outputs": [
    {
     "name": "stdout",
     "output_type": "stream",
     "text": [
      "0.0007493495941162109\n"
     ]
    }
   ],
   "source": [
    "start_time = time.time()\n",
    "\n",
    "gdp.iloc[:,:2]\n",
    "\n",
    "end_time = time.time()\n",
    "run_time = end_time - start_time\n",
    "print(run_time)"
   ]
  },
  {
   "cell_type": "code",
   "execution_count": 18,
   "metadata": {},
   "outputs": [
    {
     "name": "stdout",
     "output_type": "stream",
     "text": [
      "0.0023202896118164062\n"
     ]
    }
   ],
   "source": [
    "# select random rows\n",
    "start_time = time.time()\n",
    "\n",
    "gdp.sample(5, axis=0)\n",
    "\n",
    "end_time = time.time()\n",
    "run_time = end_time - start_time\n",
    "print(run_time)"
   ]
  },
  {
   "cell_type": "markdown",
   "metadata": {},
   "source": [
    "`np.random.randint()` vs. `df.sample()`"
   ]
  },
  {
   "cell_type": "code",
   "execution_count": 22,
   "metadata": {},
   "outputs": [
    {
     "name": "stdout",
     "output_type": "stream",
     "text": [
      "Runtime 0.007947444915771484\n"
     ]
    }
   ],
   "source": [
    "# select random rows using iloc and numpy random\n",
    "start_time = time.time()\n",
    "\n",
    "random_indices = np.random.choice(len(gdp), size=5, replace=False)\n",
    "\n",
    "# Select random rows using iloc\n",
    "random_rows = gdp.iloc[random_indices]\n",
    "\n",
    "end_time = time.time()\n",
    "print(\"Runtime {}\".format(end_time-start_time))\n"
   ]
  },
  {
   "cell_type": "code",
   "execution_count": 20,
   "metadata": {},
   "outputs": [
    {
     "data": {
      "text/plain": [
       "array([73, 60, 62,  3, 61])"
      ]
     },
     "execution_count": 20,
     "metadata": {},
     "output_type": "execute_result"
    }
   ],
   "source": []
  },
  {
   "cell_type": "code",
   "execution_count": null,
   "metadata": {},
   "outputs": [],
   "source": []
  }
 ],
 "metadata": {
  "kernelspec": {
   "display_name": "Python 3",
   "language": "python",
   "name": "python3"
  },
  "language_info": {
   "codemirror_mode": {
    "name": "ipython",
    "version": 3
   },
   "file_extension": ".py",
   "mimetype": "text/x-python",
   "name": "python",
   "nbconvert_exporter": "python",
   "pygments_lexer": "ipython3",
   "version": "3.10.12"
  }
 },
 "nbformat": 4,
 "nbformat_minor": 2
}
